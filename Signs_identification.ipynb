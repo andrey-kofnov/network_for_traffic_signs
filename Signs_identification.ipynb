{
 "cells": [
  {
   "cell_type": "markdown",
   "metadata": {},
   "source": [
    "\n",
    "@article {rtsd,\n",
    "    title = {Russian traffic sign images dataset},\n",
    "    journal = {Computer Optics},\n",
    "    volume = {40},\n",
    "    number = {2},\n",
    "    year = {2016},\n",
    "    pages = {294-300},\n",
    "    issn = {0134-2452},\n",
    "    doi = {10.18287/2412-6179-2016-40-2-294-300},\n",
    "    author = {Vladislav Shakhuro and Anton Konushin}\n",
    "}\n"
   ]
  },
  {
   "cell_type": "markdown",
   "metadata": {},
   "source": [
    "# Libraries"
   ]
  },
  {
   "cell_type": "code",
   "execution_count": 1,
   "metadata": {},
   "outputs": [
    {
     "name": "stderr",
     "output_type": "stream",
     "text": [
      "C:\\Users\\andrey_kofnov\\anaconda3\\lib\\site-packages\\tensorflow\\python\\framework\\dtypes.py:516: FutureWarning: Passing (type, 1) or '1type' as a synonym of type is deprecated; in a future version of numpy, it will be understood as (type, (1,)) / '(1,)type'.\n",
      "  _np_qint8 = np.dtype([(\"qint8\", np.int8, 1)])\n",
      "C:\\Users\\andrey_kofnov\\anaconda3\\lib\\site-packages\\tensorflow\\python\\framework\\dtypes.py:517: FutureWarning: Passing (type, 1) or '1type' as a synonym of type is deprecated; in a future version of numpy, it will be understood as (type, (1,)) / '(1,)type'.\n",
      "  _np_quint8 = np.dtype([(\"quint8\", np.uint8, 1)])\n",
      "C:\\Users\\andrey_kofnov\\anaconda3\\lib\\site-packages\\tensorflow\\python\\framework\\dtypes.py:518: FutureWarning: Passing (type, 1) or '1type' as a synonym of type is deprecated; in a future version of numpy, it will be understood as (type, (1,)) / '(1,)type'.\n",
      "  _np_qint16 = np.dtype([(\"qint16\", np.int16, 1)])\n",
      "C:\\Users\\andrey_kofnov\\anaconda3\\lib\\site-packages\\tensorflow\\python\\framework\\dtypes.py:519: FutureWarning: Passing (type, 1) or '1type' as a synonym of type is deprecated; in a future version of numpy, it will be understood as (type, (1,)) / '(1,)type'.\n",
      "  _np_quint16 = np.dtype([(\"quint16\", np.uint16, 1)])\n",
      "C:\\Users\\andrey_kofnov\\anaconda3\\lib\\site-packages\\tensorflow\\python\\framework\\dtypes.py:520: FutureWarning: Passing (type, 1) or '1type' as a synonym of type is deprecated; in a future version of numpy, it will be understood as (type, (1,)) / '(1,)type'.\n",
      "  _np_qint32 = np.dtype([(\"qint32\", np.int32, 1)])\n",
      "C:\\Users\\andrey_kofnov\\anaconda3\\lib\\site-packages\\tensorflow\\python\\framework\\dtypes.py:525: FutureWarning: Passing (type, 1) or '1type' as a synonym of type is deprecated; in a future version of numpy, it will be understood as (type, (1,)) / '(1,)type'.\n",
      "  np_resource = np.dtype([(\"resource\", np.ubyte, 1)])\n",
      "C:\\Users\\andrey_kofnov\\anaconda3\\lib\\site-packages\\tensorboard\\compat\\tensorflow_stub\\dtypes.py:541: FutureWarning: Passing (type, 1) or '1type' as a synonym of type is deprecated; in a future version of numpy, it will be understood as (type, (1,)) / '(1,)type'.\n",
      "  _np_qint8 = np.dtype([(\"qint8\", np.int8, 1)])\n",
      "C:\\Users\\andrey_kofnov\\anaconda3\\lib\\site-packages\\tensorboard\\compat\\tensorflow_stub\\dtypes.py:542: FutureWarning: Passing (type, 1) or '1type' as a synonym of type is deprecated; in a future version of numpy, it will be understood as (type, (1,)) / '(1,)type'.\n",
      "  _np_quint8 = np.dtype([(\"quint8\", np.uint8, 1)])\n",
      "C:\\Users\\andrey_kofnov\\anaconda3\\lib\\site-packages\\tensorboard\\compat\\tensorflow_stub\\dtypes.py:543: FutureWarning: Passing (type, 1) or '1type' as a synonym of type is deprecated; in a future version of numpy, it will be understood as (type, (1,)) / '(1,)type'.\n",
      "  _np_qint16 = np.dtype([(\"qint16\", np.int16, 1)])\n",
      "C:\\Users\\andrey_kofnov\\anaconda3\\lib\\site-packages\\tensorboard\\compat\\tensorflow_stub\\dtypes.py:544: FutureWarning: Passing (type, 1) or '1type' as a synonym of type is deprecated; in a future version of numpy, it will be understood as (type, (1,)) / '(1,)type'.\n",
      "  _np_quint16 = np.dtype([(\"quint16\", np.uint16, 1)])\n",
      "C:\\Users\\andrey_kofnov\\anaconda3\\lib\\site-packages\\tensorboard\\compat\\tensorflow_stub\\dtypes.py:545: FutureWarning: Passing (type, 1) or '1type' as a synonym of type is deprecated; in a future version of numpy, it will be understood as (type, (1,)) / '(1,)type'.\n",
      "  _np_qint32 = np.dtype([(\"qint32\", np.int32, 1)])\n",
      "C:\\Users\\andrey_kofnov\\anaconda3\\lib\\site-packages\\tensorboard\\compat\\tensorflow_stub\\dtypes.py:550: FutureWarning: Passing (type, 1) or '1type' as a synonym of type is deprecated; in a future version of numpy, it will be understood as (type, (1,)) / '(1,)type'.\n",
      "  np_resource = np.dtype([(\"resource\", np.ubyte, 1)])\n"
     ]
    }
   ],
   "source": [
    "import numpy as np\n",
    "\n",
    "import cv2\n",
    "\n",
    "import tensorflow as tf\n",
    "from tensorflow.contrib.layers import flatten\n",
    "\n",
    "import warnings\n",
    "\n",
    "import os\n",
    "from os import listdir\n",
    "from os.path import isfile, join\n",
    "\n",
    "from PIL import Image\n",
    "import requests\n",
    "import pandas as pd\n",
    "\n",
    "from sklearn.preprocessing import OneHotEncoder\n",
    "from sklearn.utils import shuffle\n",
    "\n",
    "import random\n",
    "\n",
    "import matplotlib.pyplot as plt\n",
    "from util_functions import *\n",
    "\n",
    "%matplotlib inline"
   ]
  },
  {
   "cell_type": "code",
   "execution_count": 2,
   "metadata": {},
   "outputs": [],
   "source": [
    "warnings.simplefilter(action='ignore', category=FutureWarning)\n",
    "\n"
   ]
  },
  {
   "cell_type": "markdown",
   "metadata": {},
   "source": [
    "# Loading data"
   ]
  },
  {
   "cell_type": "code",
   "execution_count": 3,
   "metadata": {},
   "outputs": [],
   "source": [
    "# Training and testing data are saved on this files\n",
    "\n",
    "new_data_folder = \"rtsd-r3\\\\rtsd-r3\\\\\"\n",
    "train_path = new_data_folder + \"train\\\\\"\n",
    "image_name_list = [f for f in listdir(train_path)]\n",
    "\n",
    "image_list = []\n",
    "for fi in os.listdir(train_path):\n",
    "    image_list.append(cv2.resize(np.array(Image.open(train_path + fi)), (32,32)))\n",
    "    \n",
    "X_train = np.array(image_list)\n",
    "    \n",
    "    \n",
    "test_path = new_data_folder + \"test\\\\\"\n",
    "image_name_list = [f for f in listdir(test_path)]\n",
    "image_list = []\n",
    "for fi in os.listdir(test_path):\n",
    "    image_list.append(cv2.resize(np.array(Image.open(test_path + fi)), (32,32)))\n",
    "    \n",
    "X_test = np.array(image_list)\n",
    "\n",
    "\n",
    "train_info = pd.read_csv(new_data_folder + 'gt_train.csv')\n",
    "y_train = np.array(train_info['class_number'])\n",
    "\n",
    "\n",
    "test_info = pd.read_csv(new_data_folder + 'gt_test.csv')\n",
    "y_test = np.array(test_info['class_number'])"
   ]
  },
  {
   "cell_type": "code",
   "execution_count": null,
   "metadata": {},
   "outputs": [],
   "source": []
  },
  {
   "cell_type": "code",
   "execution_count": 4,
   "metadata": {},
   "outputs": [
    {
     "name": "stdout",
     "output_type": "stream",
     "text": [
      "------------------------------------\n",
      "Number of training examples = 70687\n",
      "------------------------------------\n",
      "Number of testing examples = 22967\n",
      "------------------------------------\n",
      "Image shape = (32, 32, 3)\n",
      "------------------------------------\n",
      "Number of train classes = 105\n",
      "------------------------------------\n",
      "Number of classes = 106\n",
      "------------------------------------\n"
     ]
    }
   ],
   "source": [
    "# LOOKING AT NUMBERS OF OBSERVATIONS\n",
    "\n",
    "\n",
    "train_count = X_train.shape[0]\n",
    "\n",
    "print('------------------------------------')\n",
    "print(\"Number of training examples =\", train_count)\n",
    "\n",
    "\n",
    "test_count = X_test.shape[0]\n",
    "\n",
    "print('------------------------------------')\n",
    "print(\"Number of testing examples =\", test_count)\n",
    "\n",
    "\n",
    "im_shape = X_train[0].shape\n",
    "\n",
    "print('------------------------------------')\n",
    "print(\"Image shape =\", im_shape)\n",
    "\n",
    "\n",
    "n_train_classes = np.unique(y_train).shape[0]\n",
    "print('------------------------------------')\n",
    "print(\"Number of train classes =\", n_train_classes)\n",
    "\n",
    "\n",
    "n_classes = train_test_union(y_train, y_test).shape[0]\n",
    "print('------------------------------------')\n",
    "print(\"Number of classes =\", n_classes)\n",
    "\n",
    "print('------------------------------------')"
   ]
  },
  {
   "cell_type": "code",
   "execution_count": null,
   "metadata": {},
   "outputs": [],
   "source": []
  },
  {
   "cell_type": "code",
   "execution_count": 5,
   "metadata": {},
   "outputs": [
    {
     "name": "stdout",
     "output_type": "stream",
     "text": [
      "Train observation #: 68556  |  class label: 67\n",
      "Train observation #: 66769  |  class label: 31\n",
      "Train observation #: 11650  |  class label: 38\n",
      "Train observation #: 65077  |  class label: 12\n"
     ]
    },
    {
     "data": {
      "image/png": "[encoded data removed]",
      "text/plain": [
       "<Figure size 144x216 with 1 Axes>"
      ]
     },
     "metadata": {
      "needs_background": "light"
     },
     "output_type": "display_data"
    },
    {
     "data": {
      "image/png": "[encoded data removed]",
      "text/plain": [
       "<Figure size 144x216 with 1 Axes>"
      ]
     },
     "metadata": {
      "needs_background": "light"
     },
     "output_type": "display_data"
    },
    {
     "data": {
      "image/png": "[encoded data removed]",
      "text/plain": [
       "<Figure size 144x216 with 1 Axes>"
      ]
     },
     "metadata": {
      "needs_background": "light"
     },
     "output_type": "display_data"
    },
    {
     "data": {
      "image/png": "[encoded data removed]",
      "text/plain": [
       "<Figure size 144x216 with 1 Axes>"
      ]
     },
     "metadata": {
      "needs_background": "light"
     },
     "output_type": "display_data"
    }
   ],
   "source": [
    "# Visualizations of 4 images\n",
    "\n",
    "for z in range(4):\n",
    "    index = random.randint(0, train_count)\n",
    "    image = X_train[index]\n",
    "\n",
    "    plt.figure(figsize=(2,3))\n",
    "    plt.imshow(image)\n",
    "    print(\"Train observation #: {}  |  class label: {}\".format(index, y_train[index]))"
   ]
  },
  {
   "cell_type": "code",
   "execution_count": null,
   "metadata": {},
   "outputs": [],
   "source": []
  },
  {
   "cell_type": "code",
   "execution_count": 6,
   "metadata": {},
   "outputs": [
    {
     "name": "stdout",
     "output_type": "stream",
     "text": [
      "Trafic Signs Train summary statistics:\n",
      "count      105.0\n",
      "mean       673.0\n",
      "std       2159.0\n",
      "min          8.0\n",
      "50%        139.0\n",
      "max      19913.0\n",
      "Name: Trafic Signs Train, dtype: float64\n"
     ]
    },
    {
     "data": {
      "image/png": "[encoded data removed]",
      "text/plain": [
       "<Figure size 432x288 with 1 Axes>"
      ]
     },
     "metadata": {
      "needs_background": "light"
     },
     "output_type": "display_data"
    }
   ],
   "source": [
    "summary_statistics(y_train, 'Trafic Signs Train', n_classes)"
   ]
  },
  {
   "cell_type": "code",
   "execution_count": 7,
   "metadata": {},
   "outputs": [
    {
     "name": "stdout",
     "output_type": "stream",
     "text": [
      "Trafic Signs Test summary statistics:\n",
      "count      97.0\n",
      "mean      237.0\n",
      "std       537.0\n",
      "min         3.0\n",
      "50%        63.0\n",
      "max      4196.0\n",
      "Name: Trafic Signs Test, dtype: float64\n"
     ]
    },
    {
     "data": {
      "image/png": "[encoded data removed]",
      "text/plain": [
       "<Figure size 432x288 with 1 Axes>"
      ]
     },
     "metadata": {
      "needs_background": "light"
     },
     "output_type": "display_data"
    }
   ],
   "source": [
    "summary_statistics(y_test, 'Trafic Signs Test', n_classes)"
   ]
  },
  {
   "cell_type": "code",
   "execution_count": null,
   "metadata": {},
   "outputs": [],
   "source": []
  },
  {
   "cell_type": "code",
   "execution_count": 8,
   "metadata": {},
   "outputs": [
    {
     "name": "stderr",
     "output_type": "stream",
     "text": [
      "Clipping input data to the valid range for imshow with RGB data ([0..1] for floats or [0..255] for integers).\n"
     ]
    },
    {
     "data": {
      "text/plain": [
       "<matplotlib.image.AxesImage at 0x27b5a617908>"
      ]
     },
     "execution_count": 8,
     "metadata": {},
     "output_type": "execute_result"
    },
    {
     "data": {
      "image/png": "[encoded data removed]",
      "text/plain": [
       "<Figure size 1080x216 with 5 Axes>"
      ]
     },
     "metadata": {
      "needs_background": "light"
     },
     "output_type": "display_data"
    }
   ],
   "source": [
    "#Pre-process the Data Set (normalization, grayscale, etc.)\n",
    "\n",
    "example1 = image.squeeze()\n",
    "example2 = preProc_t2(preProc_t1(image)).squeeze()\n",
    "example3 = preProc_t3(preProc_t1(image)).squeeze()\n",
    "example4 = preProc_t2(image).squeeze()\n",
    "example5 = preProc_t3(image).squeeze()\n",
    "\n",
    "# Five subplots sharing both x/y axes\n",
    "\n",
    "f, (ax1, ax2, ax3, ax4, ax5) = plt.subplots(1, 5, figsize=(15,3))\n",
    "ax1.imshow(example1)\n",
    "ax2.imshow(example2, cmap='gray')\n",
    "ax3.imshow(example3, cmap='gray')\n",
    "ax4.imshow(example4)\n",
    "ax5.imshow(example5)"
   ]
  },
  {
   "cell_type": "code",
   "execution_count": 9,
   "metadata": {},
   "outputs": [
    {
     "data": {
      "text/plain": [
       "(32, 32)"
      ]
     },
     "execution_count": 9,
     "metadata": {},
     "output_type": "execute_result"
    },
    {
     "data": {
      "image/png": "[encoded data removed]",
      "text/plain": [
       "<Figure size 432x288 with 1 Axes>"
      ]
     },
     "metadata": {
      "needs_background": "light"
     },
     "output_type": "display_data"
    }
   ],
   "source": [
    "# Apply preprocessin on all features\n",
    "X_train_p = np.array([preProc_t3(preProc_t1(x)).reshape((32,32,1)) for x in X_train])\n",
    "X_test_p  = np.array([preProc_t3(preProc_t1(x)).reshape((32,32,1)) for x in X_test])\n",
    "\n",
    "\n",
    "example = X_train_p[index].squeeze()\n",
    "plt.imshow(example, cmap='gray')\n",
    "example.shape"
   ]
  },
  {
   "cell_type": "code",
   "execution_count": 10,
   "metadata": {},
   "outputs": [
    {
     "name": "stdout",
     "output_type": "stream",
     "text": [
      "------------------------------------\n",
      "Classes in test sample and not in train sample:  [89]\n",
      "------------------------------------\n",
      "Classes in train sample and not in test sample:  [33, 69, 91, 11, 78, 82, 56, 88, 30]\n",
      "------------------------------------\n"
     ]
    }
   ],
   "source": [
    "print('------------------------------------')\n",
    "list_Diff(list(y_test), list(y_train))\n",
    "print('Classes in test sample and not in train sample: ', list_Diff(list(y_test), list(y_train)))\n",
    "\n",
    "print('------------------------------------')\n",
    "list_Diff(list(y_test), list(y_train))\n",
    "print('Classes in train sample and not in test sample: ', list_Diff(list(y_train), list(y_test)))\n",
    "\n",
    "print('------------------------------------')"
   ]
  },
  {
   "cell_type": "code",
   "execution_count": 11,
   "metadata": {},
   "outputs": [],
   "source": [
    "#One hot encoding\n",
    "\n",
    "y_train_o = y_train.reshape((y_train.shape[0],1))\n",
    "y_test_o  = y_test.reshape((y_test.shape[0],1))\n",
    "\n",
    "one = OneHotEncoder()\n",
    "\n",
    "one.fit(train_test_union_v2(y_train_o, y_test_o))\n",
    "\n",
    "y_train_o = one.transform(y_train_o).toarray()\n",
    "y_test_o  = one.transform(y_test_o).toarray()\n",
    "\n",
    "\n",
    "# Shuffle training data\n",
    "\n",
    "X_train_p, y_train_o = shuffle(X_train_p, y_train_o)"
   ]
  },
  {
   "cell_type": "code",
   "execution_count": null,
   "metadata": {},
   "outputs": [],
   "source": []
  },
  {
   "cell_type": "code",
   "execution_count": 12,
   "metadata": {},
   "outputs": [],
   "source": [
    "#Train, Validate and Test the Model"
   ]
  },
  {
   "cell_type": "code",
   "execution_count": 13,
   "metadata": {},
   "outputs": [],
   "source": [
    "ITERATIONS = 35\n",
    "BATCH_S = 128\n",
    "### Train the model.\n",
    "\n",
    "\n",
    "x = tf.placeholder(tf.float32, (None, 32, 32, 1))\n",
    "y = tf.placeholder(tf.int32, (None,n_classes))\n",
    "keep_prob = tf.placeholder(tf.float32) # probability to keep units"
   ]
  },
  {
   "cell_type": "code",
   "execution_count": 14,
   "metadata": {},
   "outputs": [
    {
     "name": "stdout",
     "output_type": "stream",
     "text": [
      "WARNING:tensorflow:From C:\\Users\\Andrey Kofnov\\Documents\\Project for Geneva University\\util_functions.py:69: The name tf.truncated_normal is deprecated. Please use tf.random.truncated_normal instead.\n",
      "\n",
      "WARNING:tensorflow:From C:\\Users\\Andrey Kofnov\\Documents\\Project for Geneva University\\util_functions.py:77: The name tf.nn.max_pool is deprecated. Please use tf.nn.max_pool2d instead.\n",
      "\n",
      "WARNING:tensorflow:From C:\\Users\\Andrey Kofnov\\Documents\\Project for Geneva University\\util_functions.py:90: calling dropout (from tensorflow.python.ops.nn_ops) with keep_prob is deprecated and will be removed in a future version.\n",
      "Instructions for updating:\n",
      "Please use `rate` instead of `keep_prob`. Rate should be set to `rate = 1 - keep_prob`.\n",
      "WARNING:tensorflow:From C:\\Users\\andrey_kofnov\\anaconda3\\lib\\site-packages\\tensorflow\\contrib\\layers\\python\\layers\\layers.py:1634: flatten (from tensorflow.python.layers.core) is deprecated and will be removed in a future version.\n",
      "Instructions for updating:\n",
      "Use keras.layers.flatten instead.\n",
      "WARNING:tensorflow:Entity <bound method Flatten.call of <tensorflow.python.layers.core.Flatten object at 0x0000027B6AB5F588>> could not be transformed and will be executed as-is. Please report this to the AutgoGraph team. When filing the bug, set the verbosity to 10 (on Linux, `export AUTOGRAPH_VERBOSITY=10`) and attach the full output. Cause: converting <bound method Flatten.call of <tensorflow.python.layers.core.Flatten object at 0x0000027B6AB5F588>>: AttributeError: module 'gast' has no attribute 'Num'\n",
      "WARNING: Entity <bound method Flatten.call of <tensorflow.python.layers.core.Flatten object at 0x0000027B6AB5F588>> could not be transformed and will be executed as-is. Please report this to the AutgoGraph team. When filing the bug, set the verbosity to 10 (on Linux, `export AUTOGRAPH_VERBOSITY=10`) and attach the full output. Cause: converting <bound method Flatten.call of <tensorflow.python.layers.core.Flatten object at 0x0000027B6AB5F588>>: AttributeError: module 'gast' has no attribute 'Num'\n",
      "WARNING:tensorflow:From <ipython-input-14-4d6f7d9cddc6>:5: softmax_cross_entropy_with_logits (from tensorflow.python.ops.nn_ops) is deprecated and will be removed in a future version.\n",
      "Instructions for updating:\n",
      "\n",
      "Future major versions of TensorFlow will allow gradients to flow\n",
      "into the labels input on backprop by default.\n",
      "\n",
      "See `tf.nn.softmax_cross_entropy_with_logits_v2`.\n",
      "\n"
     ]
    }
   ],
   "source": [
    "# A training pipeline \n",
    "rate = 0.001\n",
    "\n",
    "logits = neuNet(x, keep_prob, n_classes)\n",
    "cross_entropy = tf.nn.softmax_cross_entropy_with_logits(logits=logits, labels=y)\n",
    "loss_operation = tf.reduce_mean(cross_entropy)\n",
    "optimizer = tf.train.AdamOptimizer(learning_rate = rate)\n",
    "training_operation = optimizer.minimize(loss_operation)\n",
    "\n",
    "correct_prediction = tf.equal(tf.argmax(logits, 1), tf.argmax(y, 1))\n",
    "accuracy_operation = tf.reduce_mean(tf.cast(correct_prediction, tf.float32))\n",
    "saver = tf.train.Saver()"
   ]
  },
  {
   "cell_type": "code",
   "execution_count": 15,
   "metadata": {},
   "outputs": [
    {
     "name": "stdout",
     "output_type": "stream",
     "text": [
      "Start training...\n",
      "\n",
      "WARNING:tensorflow:From C:\\Users\\Andrey Kofnov\\Documents\\Project for Geneva University\\util_functions.py:124: The name tf.get_default_session is deprecated. Please use tf.compat.v1.get_default_session instead.\n",
      "\n",
      "Iteration 1 ...\n",
      "Valid Accuracy = 0.800\n",
      "\n",
      "Iteration 2 ...\n",
      "Valid Accuracy = 0.857\n",
      "\n",
      "Iteration 3 ...\n",
      "Valid Accuracy = 0.876\n",
      "\n",
      "Iteration 4 ...\n",
      "Valid Accuracy = 0.886\n",
      "\n",
      "Iteration 5 ...\n",
      "Valid Accuracy = 0.902\n",
      "\n",
      "Iteration 6 ...\n",
      "Valid Accuracy = 0.906\n",
      "\n",
      "Iteration 7 ...\n",
      "Valid Accuracy = 0.908\n",
      "\n",
      "Iteration 8 ...\n",
      "Valid Accuracy = 0.919\n",
      "\n",
      "Iteration 9 ...\n",
      "Valid Accuracy = 0.920\n",
      "\n",
      "Iteration 10 ...\n",
      "Valid Accuracy = 0.920\n",
      "\n",
      "Iteration 11 ...\n",
      "Valid Accuracy = 0.926\n",
      "\n",
      "Iteration 12 ...\n",
      "Valid Accuracy = 0.924\n",
      "\n",
      "Iteration 13 ...\n",
      "Valid Accuracy = 0.932\n",
      "\n",
      "Iteration 14 ...\n",
      "Valid Accuracy = 0.929\n",
      "\n",
      "Iteration 15 ...\n",
      "Valid Accuracy = 0.928\n",
      "\n",
      "Iteration 16 ...\n",
      "Valid Accuracy = 0.931\n",
      "\n",
      "Iteration 17 ...\n",
      "Valid Accuracy = 0.927\n",
      "\n",
      "Iteration 18 ...\n",
      "Valid Accuracy = 0.930\n",
      "\n",
      "Iteration 19 ...\n",
      "Valid Accuracy = 0.931\n",
      "\n",
      "Iteration 20 ...\n",
      "Valid Accuracy = 0.933\n",
      "\n",
      "Iteration 21 ...\n",
      "Valid Accuracy = 0.935\n",
      "\n",
      "Iteration 22 ...\n",
      "Valid Accuracy = 0.934\n",
      "\n",
      "Iteration 23 ...\n",
      "Valid Accuracy = 0.928\n",
      "\n",
      "Iteration 24 ...\n",
      "Valid Accuracy = 0.936\n",
      "\n",
      "Iteration 25 ...\n",
      "Valid Accuracy = 0.934\n",
      "\n",
      "Iteration 26 ...\n",
      "Valid Accuracy = 0.930\n",
      "\n",
      "Iteration 27 ...\n",
      "Valid Accuracy = 0.936\n",
      "\n",
      "Iteration 28 ...\n",
      "Valid Accuracy = 0.926\n",
      "\n",
      "Iteration 29 ...\n",
      "Valid Accuracy = 0.934\n",
      "\n",
      "Iteration 30 ...\n",
      "Valid Accuracy = 0.930\n",
      "\n",
      "Iteration 31 ...\n",
      "Valid Accuracy = 0.936\n",
      "\n",
      "Iteration 32 ...\n",
      "Valid Accuracy = 0.936\n",
      "\n",
      "Iteration 33 ...\n",
      "Valid Accuracy = 0.936\n",
      "\n",
      "Iteration 34 ...\n",
      "Valid Accuracy = 0.930\n",
      "\n",
      "Iteration 35 ...\n",
      "Valid Accuracy = 0.941\n",
      "\n",
      "Model is done!\n"
     ]
    }
   ],
   "source": [
    "with tf.Session() as sess:\n",
    "    sess.run(tf.global_variables_initializer())\n",
    "    num_examples = len(X_train)\n",
    "    \n",
    "    print(\"Start training...\")\n",
    "    print()\n",
    "    for i in range(ITERATIONS):\n",
    "        X_train_p, y_train_o = shuffle(X_train_p, y_train_o)\n",
    "        for offset in range(0, num_examples, BATCH_S):\n",
    "            end = offset + BATCH_S\n",
    "            batch_x, batch_y = X_train_p[offset:end], y_train_o[offset:end]\n",
    "            sess.run(training_operation, feed_dict={x: batch_x, y: batch_y, keep_prob: 0.5})\n",
    "            \n",
    "        validation_accuracy = evaluate(X_test_p, y_test_o, BATCH_S, accuracy_operation, x, y, keep_prob)\n",
    "        print(\"Iteration {} ...\".format(i+1))\n",
    "        print(\"Valid Accuracy = {:.3f}\".format(validation_accuracy))\n",
    "        print()\n",
    "        \n",
    "    saver.save(sess, './lenet')\n",
    "    print(\"Model is done!\")"
   ]
  },
  {
   "cell_type": "code",
   "execution_count": 16,
   "metadata": {},
   "outputs": [
    {
     "name": "stdout",
     "output_type": "stream",
     "text": [
      "WARNING:tensorflow:From C:\\Users\\andrey_kofnov\\anaconda3\\lib\\site-packages\\tensorflow\\python\\training\\saver.py:1276: checkpoint_exists (from tensorflow.python.training.checkpoint_management) is deprecated and will be removed in a future version.\n",
      "Instructions for updating:\n",
      "Use standard file APIs to check for files with this prefix.\n",
      "INFO:tensorflow:Restoring parameters from .\\lenet\n",
      "Test Accuracy = 0.941\n"
     ]
    }
   ],
   "source": [
    "# model performance evaluation On the test set.\n",
    "with tf.Session() as se:\n",
    "    saver.restore(se, tf.train.latest_checkpoint('.'))\n",
    "\n",
    "    test_accuracy = evaluate(X_test_p, y_test_o, BATCH_S, accuracy_operation, x, y, keep_prob)\n",
    "    print(\"Test Accuracy = {:.3f}\".format(test_accuracy))"
   ]
  },
  {
   "cell_type": "code",
   "execution_count": 44,
   "metadata": {},
   "outputs": [
    {
     "data": {
      "image/png": "[encoded data removed]",
      "text/plain": [
       "<Figure size 1080x216 with 6 Axes>"
      ]
     },
     "metadata": {
      "needs_background": "light"
     },
     "output_type": "display_data"
    }
   ],
   "source": [
    "# VALIDATION images \n",
    "links = [\n",
    "    'http://previews.123rf.com/images/mygrafics/mygrafics1109/mygrafics110900301/10647917-traffic-signs-Stock-Vector-speed-sign.jpg',\n",
    "    'https://simonehr.files.wordpress.com/2013/11/stopsign.jpg',\n",
    "    'http://bicyclegermany.com/Images/Laws/Arterial.jpg',\n",
    "    'http://i.dailymail.co.uk/i/pix/2016/05/08/09/33F2DCE500000578-3579315-image-a-19_1462696012816.jpg',\n",
    "    'https://www.driving.co.uk/s3/st-driving-prod/uploads/2015/01/compulsory-speed-limits.jpg',\n",
    "    'https://img2.freepng.ru/20180320/qvq/kisspng-stop-sign-traffic-sign-clip-art-icon-download-free-stop-sign-vectors-5ab15478ebca97.6781936515215709369658.jpg'\n",
    "]\n",
    "test_photo = [download_image(link) for link in links]\n",
    "test_photo_reshape = [im.reshape([1] + list(im.shape)) for im in test_photo]\n",
    "\n",
    "# resize images\n",
    "with tf.Session() as se:\n",
    "    output = [se.run(tf.image.resize_nearest_neighbor(images = img, size = (32, 32))) for img in test_photo_reshape]\n",
    "    \n",
    "    \n",
    "#Look at downloading pictures\n",
    "\n",
    "f, ax = plt.subplots(1, 6, figsize=(15,3))\n",
    "for i in range(6):\n",
    "    ax[i].imshow(output[i][0])"
   ]
  },
  {
   "cell_type": "code",
   "execution_count": 46,
   "metadata": {},
   "outputs": [
    {
     "data": {
      "text/plain": [
       "32"
      ]
     },
     "execution_count": 46,
     "metadata": {},
     "output_type": "execute_result"
    },
    {
     "data": {
      "image/png": "[encoded data removed]",
      "text/plain": [
       "<Figure size 432x288 with 1 Axes>"
      ]
     },
     "metadata": {
      "needs_background": "light"
     },
     "output_type": "display_data"
    }
   ],
   "source": [
    "#Apply preprocessin on 6 validation images\n",
    "\n",
    "\n",
    "te_pho = np.array([preProc_t3(preProc_t1(output[i][0])).reshape((32,32,1)) for i in range(6)])\n",
    "test_labels = [42, 29, 24, 18, 47, 29]\n",
    "example = te_pho[5].squeeze()\n",
    "plt.imshow(example, cmap='gray')\n",
    "example.shape[0]"
   ]
  },
  {
   "cell_type": "code",
   "execution_count": 47,
   "metadata": {},
   "outputs": [
    {
     "name": "stdout",
     "output_type": "stream",
     "text": [
      "INFO:tensorflow:Restoring parameters from .\\lenet\n"
     ]
    }
   ],
   "source": [
    "#Predict the Sign Type for Each Image\n",
    "\n",
    "\n",
    "def Prediction(X_data):\n",
    "    se = tf.get_default_session()\n",
    "    pred = se.run(tf.argmax(logits, 1), feed_dict={x: X_data, keep_prob: 1.0})\n",
    "    return pred\n",
    "\n",
    "with tf.Session() as se:\n",
    "    saver.restore(se, tf.train.latest_checkpoint('.'))\n",
    "    pred = Prediction(te_pho)"
   ]
  },
  {
   "cell_type": "code",
   "execution_count": 48,
   "metadata": {},
   "outputs": [
    {
     "name": "stdout",
     "output_type": "stream",
     "text": [
      "Prediction accuracy on 6 images is 83.33333333333334%\n"
     ]
    }
   ],
   "source": [
    "#Analyze Performance\n",
    "\n",
    "# The accuracy for these 5 new images. \n",
    "print(\"Prediction accuracy on 6 images is {}%\".format(np.average(pred == test_labels)*100))"
   ]
  },
  {
   "cell_type": "code",
   "execution_count": null,
   "metadata": {},
   "outputs": [],
   "source": []
  }
 ],
 "metadata": {
  "kernelspec": {
   "display_name": "Python 3",
   "language": "python",
   "name": "python3"
  },
  "language_info": {
   "codemirror_mode": {
    "name": "ipython",
    "version": 3
   },
   "file_extension": ".py",
   "mimetype": "text/x-python",
   "name": "python",
   "nbconvert_exporter": "python",
   "pygments_lexer": "ipython3",
   "version": "3.7.6"
  }
 },
 "nbformat": 4,
 "nbformat_minor": 4
}
